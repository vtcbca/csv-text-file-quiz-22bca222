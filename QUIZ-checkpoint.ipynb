{
 "cells": [
  {
   "cell_type": "markdown",
   "id": "6ee47a1e",
   "metadata": {},
   "source": [
    "### 8.  Create Contact.csv file which contain name,contact. Use \"|\" as Delimiter.\n",
    "###  Search perticular contact by entering person name . "
   ]
  },
  {
   "cell_type": "markdown",
   "id": "84a70eb8",
   "metadata": {},
   "source": [
    "#### creating contact.csv and take records."
   ]
  },
  {
   "cell_type": "code",
   "execution_count": 20,
   "id": "1005200c",
   "metadata": {},
   "outputs": [],
   "source": [
    "import csv"
   ]
  },
  {
   "cell_type": "code",
   "execution_count": 21,
   "id": "a8bc8f69",
   "metadata": {},
   "outputs": [],
   "source": [
    "f=open('contact.csv','w',newline='')"
   ]
  },
  {
   "cell_type": "code",
   "execution_count": 22,
   "id": "1756cbca",
   "metadata": {},
   "outputs": [],
   "source": [
    "csv_w=csv.writer(f)"
   ]
  },
  {
   "cell_type": "code",
   "execution_count": 23,
   "id": "89dc30d7",
   "metadata": {},
   "outputs": [],
   "source": [
    "column=['NAME','CONTACT']\n",
    "rec=[['om',9876576475],['sai',4534723545],['ram',7597863756],['yug',5465326556]]\n"
   ]
  },
  {
   "cell_type": "code",
   "execution_count": 24,
   "id": "18c100a2",
   "metadata": {},
   "outputs": [],
   "source": [
    "csv_w.writerow(column)\n",
    "csv_w.writerows(rec)\n",
    "f.close()"
   ]
  },
  {
   "cell_type": "markdown",
   "id": "959f6dae",
   "metadata": {},
   "source": [
    "#### print records"
   ]
  },
  {
   "cell_type": "code",
   "execution_count": 25,
   "id": "c6f798f3",
   "metadata": {},
   "outputs": [
    {
     "name": "stdout",
     "output_type": "stream",
     "text": [
      "['NAME', 'CONTACT']\n",
      "['om', '9876576475']\n",
      "['sai', '4534723545']\n",
      "['ram', '7597863756']\n",
      "['yug', '5465326556']\n"
     ]
    }
   ],
   "source": [
    "with open('c:\\\\22bca222\\\\python\\\\SQLITE3\\\\contact.csv', 'r') as file:\n",
    "    csv_r=csv.reader(file)\n",
    "    for rec in csv_r:\n",
    "        print(rec)"
   ]
  },
  {
   "cell_type": "markdown",
   "id": "552f07b1",
   "metadata": {},
   "source": [
    "#### Search perticular contact by entering person name ."
   ]
  },
  {
   "cell_type": "code",
   "execution_count": 26,
   "id": "69abe515",
   "metadata": {},
   "outputs": [
    {
     "name": "stdout",
     "output_type": "stream",
     "text": [
      "enter name that you want to search:ram\n",
      "['ram', '7597863756']\n"
     ]
    }
   ],
   "source": [
    "f=open('c:\\\\22bca222\\\\python\\\\SQLITE3\\\\contact.csv', 'r',newline='')\n",
    "c_reader=csv.reader(f)\n",
    "name=input(\"enter name that you want to search:\")\n",
    "for row in c_reader:\n",
    "    if row[0]==name:\n",
    "        print(row)\n",
    "f.close()\n",
    "        \n",
    "    \n",
    "     \n",
    "    \n"
   ]
  },
  {
   "cell_type": "markdown",
   "id": "9406adad",
   "metadata": {},
   "source": [
    "#### output in dictionary form"
   ]
  },
  {
   "cell_type": "code",
   "execution_count": null,
   "id": "252ca7a6",
   "metadata": {},
   "outputs": [],
   "source": [
    "with open('c:\\\\22bca222\\\\python\\\\SQLITE3\\\\contact.csv', 'r',newline='') as f:\n",
    "    c_reader=csv.DictReader(f)\n",
    "    for row in c_reader:\n",
    "        print(row)\n",
    "    "
   ]
  },
  {
   "cell_type": "code",
   "execution_count": null,
   "id": "687258c8",
   "metadata": {},
   "outputs": [],
   "source": []
  }
 ],
 "metadata": {
  "kernelspec": {
   "display_name": "Python 3 (ipykernel)",
   "language": "python",
   "name": "python3"
  },
  "language_info": {
   "codemirror_mode": {
    "name": "ipython",
    "version": 3
   },
   "file_extension": ".py",
   "mimetype": "text/x-python",
   "name": "python",
   "nbconvert_exporter": "python",
   "pygments_lexer": "ipython3",
   "version": "3.11.4"
  }
 },
 "nbformat": 4,
 "nbformat_minor": 5
}
